{
  "nbformat": 4,
  "nbformat_minor": 0,
  "metadata": {
    "colab": {
      "provenance": [],
      "authorship_tag": "ABX9TyM9v+nfD3eAemCpP/4z+isp",
      "include_colab_link": true
    },
    "kernelspec": {
      "name": "python3",
      "display_name": "Python 3"
    },
    "language_info": {
      "name": "python"
    }
  },
  "cells": [
    {
      "cell_type": "markdown",
      "metadata": {
        "id": "view-in-github",
        "colab_type": "text"
      },
      "source": [
        "<a href=\"https://colab.research.google.com/github/trnq-eu/TorchLeet/blob/main/01_basic_linear_regression.ipynb\" target=\"_parent\"><img src=\"https://colab.research.google.com/assets/colab-badge.svg\" alt=\"Open In Colab\"/></a>"
      ]
    },
    {
      "cell_type": "markdown",
      "source": [
        "# Implement Linear Regression\n",
        "\n",
        "https://github.com/Exorust/TorchLeet/blob/main/torch/basic/lin-regression/lin-regression.ipynb\n",
        "\n",
        "## Requirements\n",
        "\n",
        "**Model Definition**:\n",
        "\n",
        "Implement a class LinearRegressionModel with:\n",
        "A single linear layer mapping input features to the target variable.\n",
        "\n",
        "**Forward Method**:\n",
        "\n",
        "Implement the forward method to compute predictions given input data."
      ],
      "metadata": {
        "id": "e-6vN3ms4mBM"
      }
    },
    {
      "cell_type": "code",
      "execution_count": null,
      "metadata": {
        "id": "CTsz_oif4jeZ"
      },
      "outputs": [],
      "source": [
        "\n",
        "import torch\n",
        "import torch.nn as nn\n",
        "import torch.optim as optim\n"
      ]
    },
    {
      "cell_type": "code",
      "source": [
        "# Generate synthetic data\n",
        "torch.manual_seed(42)\n",
        "X = torch.rand(100, 1) * 10  # 100 data points between 0 and 10\n",
        "y = 2 * X + 3 + torch.randn(100, 1)  # Linear relationship with noise"
      ],
      "metadata": {
        "id": "Pxm1gyouFEbb"
      },
      "execution_count": null,
      "outputs": []
    },
    {
      "cell_type": "code",
      "source": [
        "# Define the Linear Regression Model\n",
        "#TODO: Add the layer and forward implementation\n",
        "class LinearRegressionModel(nn.Module):\n",
        "    def __init__(self):\n",
        "      super(LinearRegressionModel, self).__init__()\n",
        "      self.linear = nn.Linear(in_features = 1, out_features = 1)\n",
        "\n",
        "    def forward(self, x):\n",
        "        return self.linear(x)\n",
        "\n",
        "# Initialize the model, loss function, and optimizer\n",
        "model = LinearRegressionModel()\n",
        "criterion = nn.MSELoss()\n",
        "optimizer = optim.SGD(model.parameters(), lr=0.01)\n",
        "\n",
        "# Training loop\n",
        "epochs = 1000\n",
        "for epoch in range(epochs):\n",
        "    # Forward pass\n",
        "    predictions = model(X)\n",
        "    loss = criterion(predictions, y)\n",
        "\n",
        "    # Backward pass and optimization\n",
        "    optimizer.zero_grad()\n",
        "    loss.backward()\n",
        "    optimizer.step()\n",
        "\n",
        "    # Log progress every 100 epochs\n",
        "    if (epoch + 1) % 100 == 0:\n",
        "        print(f\"Epoch [{epoch + 1}/{epochs}], Loss: {loss.item():.4f}\")"
      ],
      "metadata": {
        "colab": {
          "base_uri": "https://localhost:8080/"
        },
        "id": "ctEKjy2n44Tt",
        "outputId": "b5fcd7d3-9ccb-43e8-846f-d15f753ce93f"
      },
      "execution_count": null,
      "outputs": [
        {
          "output_type": "stream",
          "name": "stdout",
          "text": [
            "Epoch [100/1000], Loss: 1.7006\n",
            "Epoch [200/1000], Loss: 1.0613\n",
            "Epoch [300/1000], Loss: 0.8160\n",
            "Epoch [400/1000], Loss: 0.7218\n",
            "Epoch [500/1000], Loss: 0.6857\n",
            "Epoch [600/1000], Loss: 0.6718\n",
            "Epoch [700/1000], Loss: 0.6665\n",
            "Epoch [800/1000], Loss: 0.6645\n",
            "Epoch [900/1000], Loss: 0.6637\n",
            "Epoch [1000/1000], Loss: 0.6634\n"
          ]
        }
      ]
    },
    {
      "cell_type": "code",
      "source": [
        "# Display the learned parameters\n",
        "[w, b] = model.linear.parameters()\n",
        "print(f\"Learned weight: {w.item():.4f}, Learned bias: {b.item():.4f}\")\n",
        "\n",
        "# Testing on new data\n",
        "X_test = torch.tensor([[4.0], [7.0]])\n",
        "with torch.no_grad():\n",
        "    predictions = model(X_test)\n",
        "    print(f\"Predictions for {X_test.tolist()}: {predictions.tolist()}\")"
      ],
      "metadata": {
        "id": "03KV_H9IQngA",
        "outputId": "c6bce85c-0ce2-487a-dd01-e0d4e5908a77",
        "colab": {
          "base_uri": "https://localhost:8080/"
        }
      },
      "execution_count": null,
      "outputs": [
        {
          "output_type": "stream",
          "name": "stdout",
          "text": [
            "Learned weight: 1.9579, Learned bias: 3.2032\n",
            "Predictions for [[4.0], [7.0]]: [[11.034747123718262], [16.908422470092773]]\n"
          ]
        }
      ]
    }
  ]
}