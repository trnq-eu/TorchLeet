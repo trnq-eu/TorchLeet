{
  "cells": [
    {
      "cell_type": "markdown",
      "metadata": {
        "id": "wbQm8hwrx5tI"
      },
      "source": [
        "# Problem: Write a Custom Activation Function\n",
        "\n",
        "### Problem Statement\n",
        "You are tasked with implementing a **custom activation function** in PyTorch that computes the following operation:\n",
        "\n",
        "$ \\text{activation}(x) = \\tanh(x) + x $\n",
        "\n",
        "Once implemented, this custom activation function will be used in a simple linear regression model.\n",
        "\n",
        "### Requirements\n",
        "1. **Custom Activation Function**:\n",
        "   - Implement a class `CustomActivationModel` inheriting from `torch.nn.Module`.\n",
        "   - Define the `forward` method to compute the activation function \\( \\text{tanh}(x) + x \\).\n",
        "\n",
        "2. **Integration with Linear Regression**:\n",
        "   - Use the custom activation function in a simple linear regression model.\n",
        "   - The model should include:\n",
        "     - A single linear layer.\n",
        "     - The custom activation function applied to the output of the linear layer.\n",
        "\n",
        "### Constraints\n",
        "- The custom activation function should not have any learnable parameters.\n",
        "- Ensure compatibility with PyTorch tensors for forward pass computations.\n",
        "\n",
        "<details>\n",
        "  <summary>💡 Hint</summary>\n",
        "  Some details: https://stackoverflow.com/questions/55765234/pytorch-custom-activation-functions\n",
        "</details>"
      ]
    },
    {
      "cell_type": "code",
      "execution_count": 2,
      "metadata": {
        "id": "tjId2NNxx5tK"
      },
      "outputs": [],
      "source": [
        "import torch\n",
        "import torch.nn as nn\n",
        "import torch.optim as optim"
      ]
    },
    {
      "cell_type": "code",
      "execution_count": 6,
      "metadata": {
        "id": "DrPvv-ATx5tK"
      },
      "outputs": [],
      "source": [
        "# Generate synthetic data\n",
        "torch.manual_seed(42)\n",
        "X = torch.rand(100, 1) * 10  # 100 data points between 0 and 10\n",
        "y = 2 * X + 3 + torch.randn(100, 1)  # Linear relationship with noise"
      ]
    },
    {
      "cell_type": "code",
      "execution_count": 7,
      "metadata": {
        "colab": {
          "base_uri": "https://localhost:8080/"
        },
        "id": "9mmjf6YRx5tL",
        "outputId": "a7ab34f9-bb5d-4d4c-bf22-43d4587b7938"
      },
      "outputs": [
        {
          "output_type": "stream",
          "name": "stdout",
          "text": [
            "Epoch [100/1000], Loss: 185.1440\n",
            "Epoch [200/1000], Loss: 185.0758\n",
            "Epoch [300/1000], Loss: 185.0449\n",
            "Epoch [400/1000], Loss: 185.0274\n",
            "Epoch [500/1000], Loss: 185.0162\n",
            "Epoch [600/1000], Loss: 185.0085\n",
            "Epoch [700/1000], Loss: 185.0029\n",
            "Epoch [800/1000], Loss: 184.9986\n",
            "Epoch [900/1000], Loss: 184.9952\n",
            "Epoch [1000/1000], Loss: 184.9925\n"
          ]
        }
      ],
      "source": [
        "# Define the Linear Regression Model\n",
        "class CustomActivationModel(nn.Module):\n",
        "    def __init__(self):\n",
        "        super(CustomActivationModel, self).__init__()\n",
        "        self.linear = nn.Linear(1, 1)  # Single input and single output\n",
        "\n",
        "    # TODO: Implement the forward pass\n",
        "    def custom_activation(self, x):\n",
        "        return torch.tanh(x)\n",
        "\n",
        "    # TODO: Implement the forward pass\n",
        "    def forward(self, x):\n",
        "      linear_output = self.linear(x)\n",
        "      return self.custom_activation(linear_output)\n",
        "\n",
        "# Initialize the model, loss function, and optimizer\n",
        "model = CustomActivationModel()\n",
        "criterion = nn.MSELoss()\n",
        "optimizer = optim.SGD(model.parameters(), lr=0.01)\n",
        "\n",
        "# Training loop\n",
        "epochs = 1000\n",
        "for epoch in range(epochs):\n",
        "    # Forward pass\n",
        "    predictions = model(X)\n",
        "    loss = criterion(predictions, y)\n",
        "\n",
        "    # Backward pass and optimization\n",
        "    optimizer.zero_grad()\n",
        "    loss.backward()\n",
        "    optimizer.step()\n",
        "\n",
        "    # Log progress every 100 epochs\n",
        "    if (epoch + 1) % 100 == 0:\n",
        "        print(f\"Epoch [{epoch + 1}/{epochs}], Loss: {loss.item():.4f}\")\n"
      ]
    },
    {
      "cell_type": "code",
      "execution_count": 8,
      "metadata": {
        "colab": {
          "base_uri": "https://localhost:8080/"
        },
        "id": "UPGVUVOVx5tM",
        "outputId": "4f63c8a9-79b1-404c-8d7a-427ac7af43ed"
      },
      "outputs": [
        {
          "output_type": "stream",
          "name": "stdout",
          "text": [
            "Learned weight: 1.6405, Learned bias: 1.2967\n",
            "Predictions for [[4.0], [7.0]]: [[0.9999997019767761], [1.0]]\n"
          ]
        }
      ],
      "source": [
        "# Display the learned parameters\n",
        "[w, b] = model.linear.parameters()\n",
        "print(f\"Learned weight: {w.item():.4f}, Learned bias: {b.item():.4f}\")\n",
        "\n",
        "# Testing on new data\n",
        "X_test = torch.tensor([[4.0], [7.0]])\n",
        "with torch.no_grad():\n",
        "    predictions = model(X_test)\n",
        "    print(f\"Predictions for {X_test.tolist()}: {predictions.tolist()}\")"
      ]
    },
    {
      "cell_type": "code",
      "execution_count": null,
      "metadata": {
        "id": "TwKw0WzUx5tM"
      },
      "outputs": [],
      "source": []
    }
  ],
  "metadata": {
    "kernelspec": {
      "display_name": "Python 3",
      "language": "python",
      "name": "python3"
    },
    "language_info": {
      "codemirror_mode": {
        "name": "ipython",
        "version": 3
      },
      "file_extension": ".py",
      "mimetype": "text/x-python",
      "name": "python",
      "nbconvert_exporter": "python",
      "pygments_lexer": "ipython3",
      "version": "3.10.9"
    },
    "colab": {
      "provenance": []
    }
  },
  "nbformat": 4,
  "nbformat_minor": 0
}