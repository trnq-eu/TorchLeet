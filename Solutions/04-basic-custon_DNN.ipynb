{
  "cells": [
    {
      "cell_type": "markdown",
      "metadata": {
        "id": "qwu7BuxdQN_y"
      },
      "source": [
        "# Problem: Implement a Deep Neural Network\n",
        "\n",
        "### Problem Statement\n",
        "You are tasked with constructing a **Deep Neural Network (DNN)** model to solve a regression task using PyTorch. The objective is to predict target values from synthetic data exhibiting a non-linear relationship.\n",
        "\n",
        "### Requirements\n",
        "Implement the `DNNModel` class that satisfies the following criteria:\n",
        "\n",
        "1. **Model Definition**:\n",
        "   - The model should have:\n",
        "     - An **input layer** connected to a **hidden layer**.\n",
        "     - A **ReLU activation function** for non-linearity.\n",
        "     - An **output layer** with a single unit for regression.\n",
        "\n",
        "<details> <summary>💡 Hint</summary> - Use `nn.Sequential` to simplify the implementation of the `DNNModel`. - Experiment with different numbers of layers and hidden units to optimize performance. - Ensure the final layer has a single output unit (since it's a regression task). </details> <details> <summary>💡 Bonus: Try Custom Loss Functions</summary> Experiment with custom loss functions (e.g., Huber Loss) and compare their performance with MSE. </details>"
      ]
    },
    {
      "cell_type": "code",
      "execution_count": 1,
      "metadata": {
        "id": "FrloBD27QN_2"
      },
      "outputs": [],
      "source": [
        "import torch\n",
        "import torch.nn as nn\n",
        "import torch.optim as optim"
      ]
    },
    {
      "cell_type": "code",
      "execution_count": 2,
      "metadata": {
        "id": "4pzAc5e0QN_3"
      },
      "outputs": [],
      "source": [
        "# Generate synthetic data\n",
        "torch.manual_seed(42)\n",
        "X = torch.rand(100, 2) * 10  # 100 data points with 2 features\n",
        "y = (X[:, 0] + X[:, 1] * 2).unsqueeze(1) + torch.randn(100, 1)  # Non-linear relationship with noise"
      ]
    },
    {
      "cell_type": "code",
      "source": [
        "X[:5], y[:5]"
      ],
      "metadata": {
        "colab": {
          "base_uri": "https://localhost:8080/"
        },
        "id": "u-gJY0VFX7hv",
        "outputId": "b555275f-f583-424e-8c1c-c64c3f4c75db"
      },
      "execution_count": 8,
      "outputs": [
        {
          "output_type": "execute_result",
          "data": {
            "text/plain": [
              "(tensor([[8.8227, 9.1500],\n",
              "         [3.8286, 9.5931],\n",
              "         [3.9045, 6.0090],\n",
              "         [2.5657, 7.9364],\n",
              "         [9.4077, 1.3319]]),\n",
              " tensor([[26.9634],\n",
              "         [22.5898],\n",
              "         [16.8666],\n",
              "         [18.2536],\n",
              "         [13.1322]]))"
            ]
          },
          "metadata": {},
          "execution_count": 8
        }
      ]
    },
    {
      "cell_type": "code",
      "execution_count": 11,
      "metadata": {
        "id": "XcImx0tWQN_4"
      },
      "outputs": [],
      "source": [
        "# Define the Deep Neural Network Model\n",
        "class DNNModel(nn.Module):\n",
        "    def __init__(self):\n",
        "        super(DNNModel, self).__init__()\n",
        "        self.input = nn.Linear(2, 10) # input layer to hidden layer. 2 are the features of X, 10 is the dimension of the hidden layer\n",
        "        self.relu = nn.ReLU() # activation\n",
        "        self.output = nn.Linear(10,1)\n",
        "\n",
        "    def forward(self, x):\n",
        "        x = self.input(x)\n",
        "        x = self.relu(x)\n",
        "        x = self.output(x)\n",
        "        return x"
      ]
    },
    {
      "cell_type": "code",
      "execution_count": 12,
      "metadata": {
        "id": "fwGxiPqBQN_4",
        "outputId": "17dc0a99-747d-48bf-bc3c-53fb500529c2",
        "colab": {
          "base_uri": "https://localhost:8080/"
        }
      },
      "outputs": [
        {
          "output_type": "stream",
          "name": "stdout",
          "text": [
            "Epoch [100/1000], Loss: 1.9125\n",
            "Epoch [200/1000], Loss: 1.2981\n",
            "Epoch [300/1000], Loss: 1.0257\n",
            "Epoch [400/1000], Loss: 0.8621\n",
            "Epoch [500/1000], Loss: 0.7663\n",
            "Epoch [600/1000], Loss: 0.7135\n",
            "Epoch [700/1000], Loss: 0.6875\n",
            "Epoch [800/1000], Loss: 0.6775\n",
            "Epoch [900/1000], Loss: 0.6738\n",
            "Epoch [1000/1000], Loss: 0.6723\n",
            "Predictions for [[4.0, 3.0], [7.0, 8.0]]: [[9.749468803405762], [23.097766876220703]]\n"
          ]
        }
      ],
      "source": [
        "# Initialize the model, loss function, and optimizer\n",
        "model = DNNModel()\n",
        "criterion = nn.MSELoss()\n",
        "optimizer = optim.Adam(model.parameters(), lr=0.01)\n",
        "\n",
        "# Training loop\n",
        "epochs = 1000\n",
        "for epoch in range(epochs):\n",
        "    # Forward pass\n",
        "    predictions = model(X)\n",
        "    loss = criterion(predictions, y)\n",
        "\n",
        "    # Backward pass and optimization\n",
        "    optimizer.zero_grad()\n",
        "    loss.backward()\n",
        "    optimizer.step()\n",
        "\n",
        "    # Log progress every 100 epochs\n",
        "    if (epoch + 1) % 100 == 0:\n",
        "        print(f\"Epoch [{epoch + 1}/{epochs}], Loss: {loss.item():.4f}\")\n",
        "\n",
        "# Testing on new data\n",
        "X_test = torch.tensor([[4.0, 3.0], [7.0, 8.0]])\n",
        "with torch.no_grad():\n",
        "    predictions = model(X_test)\n",
        "    print(f\"Predictions for {X_test.tolist()}: {predictions.tolist()}\")"
      ]
    }
  ],
  "metadata": {
    "kernelspec": {
      "display_name": ".venv",
      "language": "python",
      "name": "python3"
    },
    "language_info": {
      "codemirror_mode": {
        "name": "ipython",
        "version": 3
      },
      "file_extension": ".py",
      "mimetype": "text/x-python",
      "name": "python",
      "nbconvert_exporter": "python",
      "pygments_lexer": "ipython3",
      "version": "3.10.4"
    },
    "colab": {
      "provenance": []
    }
  },
  "nbformat": 4,
  "nbformat_minor": 0
}